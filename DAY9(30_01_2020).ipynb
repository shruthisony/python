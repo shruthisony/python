{
  "nbformat": 4,
  "nbformat_minor": 0,
  "metadata": {
    "colab": {
      "name": "DAY9(30-01-2020).ipynb",
      "provenance": [],
      "toc_visible": true,
      "authorship_tag": "ABX9TyMTbEh4trsOcqKgKcaq4ih8",
      "include_colab_link": true
    },
    "kernelspec": {
      "name": "python3",
      "display_name": "Python 3"
    }
  },
  "cells": [
    {
      "cell_type": "markdown",
      "metadata": {
        "id": "view-in-github",
        "colab_type": "text"
      },
      "source": [
        "<a href=\"https://colab.research.google.com/github/shruthisony/python/blob/master/DAY9(30_01_2020).ipynb\" target=\"_parent\"><img src=\"https://colab.research.google.com/assets/colab-badge.svg\" alt=\"Open In Colab\"/></a>"
      ]
    },
    {
      "cell_type": "code",
      "metadata": {
        "id": "Z-fzlZ_b8D8W",
        "colab_type": "code",
        "colab": {}
      },
      "source": [
        ""
      ],
      "execution_count": 0,
      "outputs": []
    },
    {
      "cell_type": "code",
      "metadata": {
        "id": "Syg_XDof9SFt",
        "colab_type": "code",
        "colab": {}
      },
      "source": [
        ""
      ],
      "execution_count": 0,
      "outputs": []
    },
    {
      "cell_type": "markdown",
      "metadata": {
        "id": "iZUuSB-q9rv-",
        "colab_type": "text"
      },
      "source": [
        "MARK DOWN\n",
        "####MARKDOWN\n",
        "***POINTS***\n"
      ]
    },
    {
      "cell_type": "markdown",
      "metadata": {
        "id": "4ZdPn9HOA2iK",
        "colab_type": "text"
      },
      "source": [
        "**GOOGLE SITES**\n",
        "[SITE](https://iisc.ac.in)"
      ]
    },
    {
      "cell_type": "markdown",
      "metadata": {
        "id": "qDVLPMc0B8bG",
        "colab_type": "text"
      },
      "source": [
        "***image link***\n",
        "[iisc image](https://www.google.com/imgres?imgurl=https%3A%2F%2Flookaside.fbsbx.com%2Flookaside%2Fcrawler%2Fmedia%2F%3Fmedia_id%3D469039383108859&imgrefurl=https%3A%2F%2Fwww.facebook.com%2Fiiscbangalore%2F&docid=mYKyIbN69-xuNM&tbnid=Fng6gs-H9kQUOM%3A&vet=10ahUKEwjXk_aPkavnAhVKcCsKHXiTAlAQMwh6KAAwAA..i&w=960&h=452&safe=active&bih=581&biw=1366&q=iisc%20bangalore&ved=0ahUKEwjXk_aPkavnAhVKcCsKHXiTAlAQMwh6KAAwAA&iact=mrc&uact=8)"
      ]
    },
    {
      "cell_type": "code",
      "metadata": {
        "id": "QFzFN_BrClg0",
        "colab_type": "code",
        "colab": {
          "base_uri": "https://localhost:8080/",
          "height": 34
        },
        "outputId": "04547ad7-8df6-47aa-d753-87b3770e4ac9"
      },
      "source": [
        "print(\"hi hello\")"
      ],
      "execution_count": 2,
      "outputs": [
        {
          "output_type": "stream",
          "text": [
            "hi hello\n"
          ],
          "name": "stdout"
        }
      ]
    },
    {
      "cell_type": "code",
      "metadata": {
        "id": "lvE4k4MUH_RP",
        "colab_type": "code",
        "colab": {
          "base_uri": "https://localhost:8080/",
          "height": 34
        },
        "outputId": "f0af2412-26f3-46d9-89b9-faebe111d2b0"
      },
      "source": [
        "print(\"hello\",\"|||\",\"hi\",\"|||\",\"welcome\")\n"
      ],
      "execution_count": 3,
      "outputs": [
        {
          "output_type": "stream",
          "text": [
            "hello ||| hi ||| welcome\n"
          ],
          "name": "stdout"
        }
      ]
    },
    {
      "cell_type": "markdown",
      "metadata": {
        "id": "0wf4xh51Iv5E",
        "colab_type": "text"
      },
      "source": [
        "#Assignment\n"
      ]
    },
    {
      "cell_type": "code",
      "metadata": {
        "id": "uf_OiUb_I7b5",
        "colab_type": "code",
        "colab": {}
      },
      "source": [
        "n=100"
      ],
      "execution_count": 0,
      "outputs": []
    },
    {
      "cell_type": "code",
      "metadata": {
        "id": "-sdcEwYYJFbR",
        "colab_type": "code",
        "colab": {
          "base_uri": "https://localhost:8080/",
          "height": 34
        },
        "outputId": "ee82da50-50dd-4c3e-f339-6f35b0e9928d"
      },
      "source": [
        "n"
      ],
      "execution_count": 6,
      "outputs": [
        {
          "output_type": "execute_result",
          "data": {
            "text/plain": [
              "100"
            ]
          },
          "metadata": {
            "tags": []
          },
          "execution_count": 6
        }
      ]
    },
    {
      "cell_type": "code",
      "metadata": {
        "id": "uXSBS5uPJQnh",
        "colab_type": "code",
        "colab": {}
      },
      "source": [
        "a=b=c=10"
      ],
      "execution_count": 0,
      "outputs": []
    },
    {
      "cell_type": "code",
      "metadata": {
        "id": "r_bQdcbsJir6",
        "colab_type": "code",
        "colab": {
          "base_uri": "https://localhost:8080/",
          "height": 34
        },
        "outputId": "c3488ac5-912f-4619-f42c-38ac1e71f6d4"
      },
      "source": [
        "print(a,b,c)"
      ],
      "execution_count": 8,
      "outputs": [
        {
          "output_type": "stream",
          "text": [
            "10 10 10\n"
          ],
          "name": "stdout"
        }
      ]
    },
    {
      "cell_type": "code",
      "metadata": {
        "id": "kwIQCzBhJmG4",
        "colab_type": "code",
        "colab": {
          "base_uri": "https://localhost:8080/",
          "height": 34
        },
        "outputId": "06e93020-7c76-4b84-f650-8262ceb9c4d2"
      },
      "source": [
        "print(n,a,b,c)"
      ],
      "execution_count": 9,
      "outputs": [
        {
          "output_type": "stream",
          "text": [
            "100 10 10 10\n"
          ],
          "name": "stdout"
        }
      ]
    },
    {
      "cell_type": "markdown",
      "metadata": {
        "id": "OFpC3yAXI4Mv",
        "colab_type": "text"
      },
      "source": [
        ""
      ]
    },
    {
      "cell_type": "code",
      "metadata": {
        "id": "g1P8qsszKQm4",
        "colab_type": "code",
        "colab": {
          "base_uri": "https://localhost:8080/",
          "height": 51
        },
        "outputId": "3fffc44d-f0bf-4e76-a30c-7fce41401c54"
      },
      "source": [
        "i=1\n",
        "print(i)\n",
        "a=b=c=2\n",
        "print(a,b,c)"
      ],
      "execution_count": 10,
      "outputs": [
        {
          "output_type": "stream",
          "text": [
            "1\n",
            "2 2 2\n"
          ],
          "name": "stdout"
        }
      ]
    },
    {
      "cell_type": "markdown",
      "metadata": {
        "id": "BLbM6pDjKhLN",
        "colab_type": "text"
      },
      "source": [
        "Data type and conversions\n",
        "\n",
        "\n",
        "*   float\n",
        "*    int\n",
        "\n",
        "\n",
        "\n",
        "\n"
      ]
    },
    {
      "cell_type": "code",
      "metadata": {
        "id": "K86JqYQmLPCc",
        "colab_type": "code",
        "colab": {
          "base_uri": "https://localhost:8080/",
          "height": 136
        },
        "outputId": "87cd8e9b-b730-4dd0-83b1-7c075df44428"
      },
      "source": [
        "a=100\n",
        "s=10.2\n",
        "p=\"python\"\n",
        "r=len(p)\n",
        "print(type(a),type(s),type(p))\n",
        "k=str(a)\n",
        "print(type(k))\n",
        "print (r)\n",
        "j=input(\"enter your  friends job:\")\n",
        "print(j)\n",
        "b=input(\"enter your friends age sitting beside you \")\n",
        "print(b)\n",
        "\n",
        "\n",
        "\n"
      ],
      "execution_count": 19,
      "outputs": [
        {
          "output_type": "stream",
          "text": [
            "<class 'int'> <class 'float'> <class 'str'>\n",
            "<class 'str'>\n",
            "6\n",
            "enter your  friends job:mixing\n",
            "mixing\n",
            "enter your friends age sitting beside you  twenty three and ten\n",
            " twenty three and ten\n"
          ],
          "name": "stdout"
        }
      ]
    },
    {
      "cell_type": "markdown",
      "metadata": {
        "id": "LY5RjxOePhy_",
        "colab_type": "text"
      },
      "source": [
        "***arithmatic operators***"
      ]
    },
    {
      "cell_type": "code",
      "metadata": {
        "id": "6-pjC-MsP2CQ",
        "colab_type": "code",
        "colab": {
          "base_uri": "https://localhost:8080/",
          "height": 102
        },
        "outputId": "8598d756-f58e-4299-ad04-f8109a89cd3b"
      },
      "source": [
        "s=1000\n",
        "print(s+1000)\n",
        "print(s-1000)\n",
        "print(s*2)\n",
        "print(s/1000)\n"
      ],
      "execution_count": 21,
      "outputs": [
        {
          "output_type": "stream",
          "text": [
            "2000\n",
            "0\n",
            "2000\n",
            "1.0\n"
          ],
          "name": "stdout"
        },
        {
          "output_type": "execute_result",
          "data": {
            "text/plain": [
              "<function print>"
            ]
          },
          "metadata": {
            "tags": []
          },
          "execution_count": 21
        }
      ]
    },
    {
      "cell_type": "code",
      "metadata": {
        "id": "C5W5AfLbTAJL",
        "colab_type": "code",
        "colab": {
          "base_uri": "https://localhost:8080/",
          "height": 34
        },
        "outputId": "255dc54c-b171-4d17-e0e7-b36fdb8bff9b"
      },
      "source": [
        "p=100\n",
        "s=(p<50) and (p<200)\n",
        "print(s)\n",
        "\n",
        "\n",
        "\n",
        "\n"
      ],
      "execution_count": 22,
      "outputs": [
        {
          "output_type": "stream",
          "text": [
            "False\n"
          ],
          "name": "stdout"
        }
      ]
    },
    {
      "cell_type": "markdown",
      "metadata": {
        "id": "a1py4v1jTAdl",
        "colab_type": "text"
      },
      "source": [
        "***logical operators***"
      ]
    },
    {
      "cell_type": "markdown",
      "metadata": {
        "id": "XXb-_XH8Veag",
        "colab_type": "text"
      },
      "source": [
        "***control flow statements***"
      ]
    },
    {
      "cell_type": "code",
      "metadata": {
        "id": "vU1fE0c8Vrzb",
        "colab_type": "code",
        "colab": {
          "base_uri": "https://localhost:8080/",
          "height": 51
        },
        "outputId": "48e18d9f-4926-411c-fc31-117c6d5a9fa3"
      },
      "source": [
        "p=int(input(\"enter the number:\"))\n",
        "if n%2==0:\n",
        " print(p,\"is even\")\n",
        "else:\n",
        " print(p,\"is odd\")\n"
      ],
      "execution_count": 31,
      "outputs": [
        {
          "output_type": "stream",
          "text": [
            "enter the number:42\n",
            "42 is even\n"
          ],
          "name": "stdout"
        }
      ]
    },
    {
      "cell_type": "code",
      "metadata": {
        "id": "l3dYYqEkX2bX",
        "colab_type": "code",
        "colab": {
          "base_uri": "https://localhost:8080/",
          "height": 51
        },
        "outputId": "f2f8bd05-6c4b-4162-ea17-3a6e44dd6e77"
      },
      "source": [
        " n=int( input(\"enter the number:\"))\n",
        " if (n%3==0)and(n%5==0):\n",
        "   print(n,\"given number is divisible by 3 and 5\")\n",
        " else:\n",
        "   print(n,\"given number is not divisible by3 and 5 \")"
      ],
      "execution_count": 38,
      "outputs": [
        {
          "output_type": "stream",
          "text": [
            "enter the number:15\n",
            "15 given number is divisible by 3 and 5\n"
          ],
          "name": "stdout"
        }
      ]
    },
    {
      "cell_type": "code",
      "metadata": {
        "id": "ZnlVpFUsaZeQ",
        "colab_type": "code",
        "colab": {
          "base_uri": "https://localhost:8080/",
          "height": 85
        },
        "outputId": "ed2767dd-b9b8-492c-9714-956899b6415f"
      },
      "source": [
        "a=int(input(\"enter a\"))\n",
        "b=int(input(\"enter b\"))\n",
        "c=int(input(\"enter c\"))\n",
        "if (a>b)and(a>c):\n",
        "  print(\"a is graeter\")\n",
        "elif(b>a)and(b>c):\n",
        " print(\"b is greater\")\n",
        "else:\n",
        "  print(\"c is greter\")\n",
        "\n",
        "\n"
      ],
      "execution_count": 47,
      "outputs": [
        {
          "output_type": "stream",
          "text": [
            "enter a5\n",
            "enter b6\n",
            "enter c1\n",
            "b is greater\n"
          ],
          "name": "stdout"
        }
      ]
    },
    {
      "cell_type": "code",
      "metadata": {
        "id": "r3E5BBM0eJzc",
        "colab_type": "code",
        "colab": {}
      },
      "source": [
        ""
      ],
      "execution_count": 0,
      "outputs": []
    },
    {
      "cell_type": "code",
      "metadata": {
        "id": "oFHsNb_1d7z6",
        "colab_type": "code",
        "colab": {}
      },
      "source": [
        "n=int(input(\"enter the year\"))\n",
        "if(n%4==0) and (n%100)\n",
        "print()\n"
      ],
      "execution_count": 0,
      "outputs": []
    },
    {
      "cell_type": "code",
      "metadata": {
        "id": "CVvchPBTXdRy",
        "colab_type": "code",
        "colab": {}
      },
      "source": [
        ""
      ],
      "execution_count": 0,
      "outputs": []
    },
    {
      "cell_type": "code",
      "metadata": {
        "id": "lv-AjUY5VryN",
        "colab_type": "code",
        "colab": {}
      },
      "source": [
        ""
      ],
      "execution_count": 0,
      "outputs": []
    },
    {
      "cell_type": "code",
      "metadata": {
        "id": "kzRr1tdZP2BB",
        "colab_type": "code",
        "colab": {}
      },
      "source": [
        ""
      ],
      "execution_count": 0,
      "outputs": []
    },
    {
      "cell_type": "markdown",
      "metadata": {
        "id": "79u08GjVKzYk",
        "colab_type": "text"
      },
      "source": [
        ""
      ]
    }
  ]
}