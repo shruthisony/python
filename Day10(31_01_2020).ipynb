{
  "nbformat": 4,
  "nbformat_minor": 0,
  "metadata": {
    "colab": {
      "name": "Day10(31-01-2020)",
      "provenance": [],
      "collapsed_sections": [],
      "authorship_tag": "ABX9TyNrbehzURKhTUwxbDKNuWcy",
      "include_colab_link": true
    },
    "kernelspec": {
      "name": "python3",
      "display_name": "Python 3"
    }
  },
  "cells": [
    {
      "cell_type": "markdown",
      "metadata": {
        "id": "view-in-github",
        "colab_type": "text"
      },
      "source": [
        "<a href=\"https://colab.research.google.com/github/shruthisony/python/blob/master/Day10(31_01_2020).ipynb\" target=\"_parent\"><img src=\"https://colab.research.google.com/assets/colab-badge.svg\" alt=\"Open In Colab\"/></a>"
      ]
    },
    {
      "cell_type": "markdown",
      "metadata": {
        "id": "tlqNil6wxX47",
        "colab_type": "text"
      },
      "source": [
        "**Loops**\n",
        "\n",
        "    \n",
        "\n",
        "*   While\n",
        "*   For\n",
        "\n"
      ]
    },
    {
      "cell_type": "code",
      "metadata": {
        "id": "DD4BylWMxbLe",
        "colab_type": "code",
        "outputId": "e87239c0-16e7-4e88-df85-ff199abe53db",
        "colab": {
          "base_uri": "https://localhost:8080/",
          "height": 51
        }
      },
      "source": [
        "n=int(input(\"enter a number\"))\n",
        "i=1\n",
        "while(i<=n):\n",
        "  print(i,end=\" \")\n",
        "  i=i+1\n"
      ],
      "execution_count": 0,
      "outputs": [
        {
          "output_type": "stream",
          "text": [
            "enter a number7\n",
            "1 2 3 4 5 6 7 "
          ],
          "name": "stdout"
        }
      ]
    },
    {
      "cell_type": "code",
      "metadata": {
        "id": "lHd84LZzxbJt",
        "colab_type": "code",
        "outputId": "b9aa4c56-b691-473e-a2b4-f97d0d20ef47",
        "colab": {
          "base_uri": "https://localhost:8080/",
          "height": 51
        }
      },
      "source": [
        "n=int(input(\"enter a number\"))\n",
        "i=0\n",
        "sum=0\n",
        "while(i<=n):\n",
        "  if(i%2==0):\n",
        "    sum=sum+i\n",
        "  i=i+1\n",
        "print(sum)\n",
        "\n"
      ],
      "execution_count": 0,
      "outputs": [
        {
          "output_type": "stream",
          "text": [
            "enter a number10\n",
            "30\n"
          ],
          "name": "stdout"
        }
      ]
    },
    {
      "cell_type": "code",
      "metadata": {
        "id": "gTu8M5f21z9f",
        "colab_type": "code",
        "outputId": "a4a07dba-2fbf-4538-8d0e-91b552c9ea89",
        "colab": {
          "base_uri": "https://localhost:8080/",
          "height": 51
        }
      },
      "source": [
        "n=int(input(\"enter a number\"))\n",
        "r=0\n",
        "while(n>0):\n",
        "  rem=n%10\n",
        "  r=rem+r*10\n",
        "  n=n//10\n",
        "print(r)"
      ],
      "execution_count": 0,
      "outputs": [
        {
          "output_type": "stream",
          "text": [
            "enter a number234\n",
            "432\n"
          ],
          "name": "stdout"
        }
      ]
    },
    {
      "cell_type": "markdown",
      "metadata": {
        "id": "_E3vbU989BAi",
        "colab_type": "text"
      },
      "source": [
        "**Functional programming**\n"
      ]
    },
    {
      "cell_type": "code",
      "metadata": {
        "id": "jg_QLDJZ9F2O",
        "colab_type": "code",
        "outputId": "88c62ccf-8b77-437f-c555-ae2610ed46b3",
        "colab": {
          "base_uri": "https://localhost:8080/",
          "height": 34
        }
      },
      "source": [
        "def add(a,b):\n",
        "  c=a+b\n",
        "  return c\n",
        "\n",
        "add(2,5)"
      ],
      "execution_count": 0,
      "outputs": [
        {
          "output_type": "execute_result",
          "data": {
            "text/plain": [
              "7"
            ]
          },
          "metadata": {
            "tags": []
          },
          "execution_count": 14
        }
      ]
    },
    {
      "cell_type": "code",
      "metadata": {
        "id": "YsOXUfre-d-v",
        "colab_type": "code",
        "outputId": "5235e45b-1e7f-4c53-fb37-f66c23a8a1ba",
        "colab": {
          "base_uri": "https://localhost:8080/",
          "height": 34
        }
      },
      "source": [
        "def sum(n):\n",
        "  s=0\n",
        "  i=0\n",
        "  while(i<=n):\n",
        "    if(i%2==0):\n",
        "      s=s+i\n",
        "    i=i+1\n",
        "  return s\n",
        "\n",
        "sum(10)      "
      ],
      "execution_count": 0,
      "outputs": [
        {
          "output_type": "execute_result",
          "data": {
            "text/plain": [
              "30"
            ]
          },
          "metadata": {
            "tags": []
          },
          "execution_count": 24
        }
      ]
    },
    {
      "cell_type": "code",
      "metadata": {
        "id": "zQGo11yuAK6F",
        "colab_type": "code",
        "outputId": "6c4754e3-5de8-4d2c-9815-06b25af43324",
        "colab": {
          "base_uri": "https://localhost:8080/",
          "height": 34
        }
      },
      "source": [
        "def sumofevendigits(n):\n",
        "  s=0\n",
        "  while(n!=0):\n",
        "    r=n%10\n",
        "    if(r%2==0):\n",
        "     s=s+r\n",
        "    n=n//10\n",
        "  return s\n",
        "\n",
        "sumofevendigits(1234)    "
      ],
      "execution_count": 0,
      "outputs": [
        {
          "output_type": "execute_result",
          "data": {
            "text/plain": [
              "6"
            ]
          },
          "metadata": {
            "tags": []
          },
          "execution_count": 28
        }
      ]
    },
    {
      "cell_type": "code",
      "metadata": {
        "id": "Mcv9SXvFCyq8",
        "colab_type": "code",
        "outputId": "5836aa45-1695-49e4-dec1-f72c8d105538",
        "colab": {
          "base_uri": "https://localhost:8080/",
          "height": 34
        }
      },
      "source": [
        "def large(n):\n",
        " s=0\n",
        " while(n>0):\n",
        "   r=n%10\n",
        "   if r>s:\n",
        "     s=r\n",
        "   n=n//10\n",
        " return s \n",
        "\n",
        "large(152672728)\n"
      ],
      "execution_count": 0,
      "outputs": [
        {
          "output_type": "execute_result",
          "data": {
            "text/plain": [
              "8"
            ]
          },
          "metadata": {
            "tags": []
          },
          "execution_count": 30
        }
      ]
    },
    {
      "cell_type": "markdown",
      "metadata": {
        "id": "UFyPeorNIa6J",
        "colab_type": "text"
      },
      "source": [
        "**For loop**"
      ]
    },
    {
      "cell_type": "code",
      "metadata": {
        "id": "EggvSywAIhJZ",
        "colab_type": "code",
        "outputId": "bca55b48-88f7-423b-cd16-13c57a464d36",
        "colab": {
          "base_uri": "https://localhost:8080/",
          "height": 34
        }
      },
      "source": [
        "\n",
        "for i in range(11,26):\n",
        "  print(i,end=\" \")"
      ],
      "execution_count": 0,
      "outputs": [
        {
          "output_type": "stream",
          "text": [
            "11 12 13 14 15 16 17 18 19 20 21 22 23 24 25 "
          ],
          "name": "stdout"
        }
      ]
    },
    {
      "cell_type": "code",
      "metadata": {
        "id": "EBRigzRSK3eJ",
        "colab_type": "code",
        "outputId": "4f3d19d8-a128-4e8c-f7f4-aed35c77b4bf",
        "colab": {
          "base_uri": "https://localhost:8080/",
          "height": 34
        }
      },
      "source": [
        "for i in range(500,521):\n",
        " if(i%4==0):\n",
        "  print(i,end=\" \")"
      ],
      "execution_count": 0,
      "outputs": [
        {
          "output_type": "stream",
          "text": [
            "500 504 508 512 516 520 "
          ],
          "name": "stdout"
        }
      ]
    },
    {
      "cell_type": "code",
      "metadata": {
        "id": "of8RXgjrLhvR",
        "colab_type": "code",
        "outputId": "cd6f86f6-eaac-4250-e284-0110f31530cd",
        "colab": {
          "base_uri": "https://localhost:8080/",
          "height": 34
        }
      },
      "source": [
        "def fun(a,b):\n",
        " for i in range(a,b+1,4):\n",
        "  print(i,end=\" \")\n",
        "\n",
        "fun(500,520)"
      ],
      "execution_count": 0,
      "outputs": [
        {
          "output_type": "stream",
          "text": [
            "500 504 508 512 516 520 "
          ],
          "name": "stdout"
        }
      ]
    },
    {
      "cell_type": "markdown",
      "metadata": {
        "id": "Z2_UKK1CMslw",
        "colab_type": "text"
      },
      "source": [
        "**Collection types**\n",
        "\n",
        "*   List\n",
        "*   Dictionary\n",
        "\n",
        "*   Tuple\n",
        "\n",
        "\n",
        "\n"
      ]
    },
    {
      "cell_type": "markdown",
      "metadata": {
        "id": "u9AMgPVfOHB3",
        "colab_type": "text"
      },
      "source": [
        "**List**\n",
        "\n",
        "\n",
        "*   One of the data structure in python Ex: list=[1,2,3,4]\n",
        "*   to store,to sort,to search\n",
        "\n",
        "*   Seperated by commas and enclosed by square brackets\n",
        "*   list is immutable(values cant be changed)\n",
        "\n",
        "\n",
        "\n"
      ]
    },
    {
      "cell_type": "code",
      "metadata": {
        "id": "FLRu58kkO0i8",
        "colab_type": "code",
        "outputId": "517e6757-70b8-416b-a504-d59fdc82fdfd",
        "colab": {
          "base_uri": "https://localhost:8080/",
          "height": 153
        }
      },
      "source": [
        "li=[1,2,3,4]\n",
        "print(li)\n",
        "print(li[-1])\n",
        "print(li[2])\n",
        "print(li[1:])\n",
        "print(li[:2])\n",
        "print(li[1:3])\n",
        "print(li[::2])\n",
        "print(li[-3:-1])"
      ],
      "execution_count": 0,
      "outputs": [
        {
          "output_type": "stream",
          "text": [
            "[1, 2, 3, 4]\n",
            "4\n",
            "3\n",
            "[2, 3, 4]\n",
            "[1, 2]\n",
            "[2, 3]\n",
            "[1, 3]\n",
            "[2, 3]\n"
          ],
          "name": "stdout"
        }
      ]
    },
    {
      "cell_type": "code",
      "metadata": {
        "id": "mCJ4iOXTbaX2",
        "colab_type": "code",
        "outputId": "111a7617-4e79-4858-daee-3fadb0c6fca1",
        "colab": {
          "base_uri": "https://localhost:8080/",
          "height": 68
        }
      },
      "source": [
        "li1=[1,\"a\",2,\"s\"]\n",
        "print(li1)\n",
        "li1[2]=9\n",
        "print(li1)\n",
        "del li1[2]\n",
        "print(li1)"
      ],
      "execution_count": 0,
      "outputs": [
        {
          "output_type": "stream",
          "text": [
            "[1, 'a', 2, 's']\n",
            "[1, 'a', 9, 's']\n",
            "[1, 'a', 's']\n"
          ],
          "name": "stdout"
        }
      ]
    },
    {
      "cell_type": "code",
      "metadata": {
        "id": "HbBIcQAxdkwn",
        "colab_type": "code",
        "outputId": "13d1c825-f257-4536-b1f7-be3a24d076b2",
        "colab": {
          "base_uri": "https://localhost:8080/",
          "height": 221
        }
      },
      "source": [
        "li=[1,2,3,4,5]\n",
        "print(li)\n",
        "print(len(li))\n",
        "print(li*2)\n",
        "print(4 in li)\n",
        "print(max(li))\n",
        "print(min(li))\n",
        "print(sorted(li))\n",
        "li.append(6)\n",
        "li.insert(6,7)\n",
        "print(li.count(6))\n",
        "li.pop(0)\n",
        "print(li)\n",
        "li.reverse()\n",
        "print(li)\n",
        "li.remove(5)\n",
        "print(li)\n",
        "li.index(2)\n"
      ],
      "execution_count": 0,
      "outputs": [
        {
          "output_type": "stream",
          "text": [
            "[1, 2, 3, 4, 5]\n",
            "5\n",
            "[1, 2, 3, 4, 5, 1, 2, 3, 4, 5]\n",
            "True\n",
            "5\n",
            "1\n",
            "[1, 2, 3, 4, 5]\n",
            "1\n",
            "[2, 3, 4, 5, 6, 7]\n",
            "[7, 6, 5, 4, 3, 2]\n",
            "[7, 6, 4, 3, 2]\n"
          ],
          "name": "stdout"
        },
        {
          "output_type": "execute_result",
          "data": {
            "text/plain": [
              "4"
            ]
          },
          "metadata": {
            "tags": []
          },
          "execution_count": 73
        }
      ]
    },
    {
      "cell_type": "code",
      "metadata": {
        "id": "s4WfFcUjjr5h",
        "colab_type": "code",
        "outputId": "95d88324-10fa-46d6-e78f-a78e7686e207",
        "colab": {
          "base_uri": "https://localhost:8080/",
          "height": 85
        }
      },
      "source": [
        "def lar(li):\n",
        " li.sort()\n",
        " print(li)\n",
        " return li[-1]\n",
        "def genlar(li,n): #large\n",
        " li.sort()\n",
        " return li[-n]\n",
        "def genlar1(li,n):  #small\n",
        " li.sort()\n",
        " return li[n] \n",
        "\n",
        "li=[4,3,2,7,6,0,8,9]\n",
        "print(lar(li))\n",
        "print(genlar(li,3))\n",
        "print(genlar1(li,3))"
      ],
      "execution_count": 0,
      "outputs": [
        {
          "output_type": "stream",
          "text": [
            "[0, 2, 3, 4, 6, 7, 8, 9]\n",
            "9\n",
            "7\n",
            "4\n"
          ],
          "name": "stdout"
        }
      ]
    },
    {
      "cell_type": "markdown",
      "metadata": {
        "id": "ZyahBM7ynI0m",
        "colab_type": "text"
      },
      "source": [
        "**Tuples**\n",
        "\n",
        "*   List item\n",
        "*   List item\n",
        "\n"
      ]
    },
    {
      "cell_type": "code",
      "metadata": {
        "id": "PC0RKOHNPFwz",
        "colab_type": "code",
        "colab": {}
      },
      "source": [
        ""
      ],
      "execution_count": 0,
      "outputs": []
    }
  ]
}